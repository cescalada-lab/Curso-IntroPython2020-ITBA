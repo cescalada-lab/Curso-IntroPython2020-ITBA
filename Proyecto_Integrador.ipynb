{
  "nbformat": 4,
  "nbformat_minor": 0,
  "metadata": {
    "colab": {
      "name": "Copia de Proyecto Integrador.ipynb",
      "provenance": [],
      "collapsed_sections": []
    },
    "kernelspec": {
      "name": "python3",
      "display_name": "Python 3"
    }
  },
  "cells": [
    {
      "cell_type": "markdown",
      "metadata": {
        "id": "kegH31D9TmYk"
      },
      "source": [
        "# **Curso Introductorio de Python - Proyecto Integrador**"
      ]
    },
    {
      "cell_type": "markdown",
      "metadata": {
        "id": "DMg0wMnCqXpa"
      },
      "source": [
        "<img width=\"320\" src=\"https://raw.githubusercontent.com/IEEESBITBA/Curso-Python/master/_assets/logo-oficial.png\">"
      ]
    },
    {
      "cell_type": "markdown",
      "metadata": {
        "id": "Pxj3Bz92T-SE"
      },
      "source": [
        "En este proyecto final podrán integrar los conocimientos adquiridos a lo largo del curso implementando una aplicación práctica que esperamos sirva como un puntapié inicial para la creación de muchos más proyectos en su futuro de todo tipo de complejidad.\n",
        "\n",
        "**Objetivos del proyecto**:\n",
        "\n",
        "*   Que el participante domine las bases de la programación en Python.\n",
        "*   Que el participante tenga conocimientos elementales sobre la lectura de archivos, procesamiento de datos, y visualización de datos.\n",
        "*   Que el participante pueda encontrar y aplicar conocimientos que vayan más allá de los explicados en el curso.\n",
        "*   Que el participante tenga una experiencia de aplicación de la programación Python a un ejemplo práctico.\n",
        "\n",
        "Se presentan diferentes opciones de proyectos, de dificultad comparable, para que cada uno pueda elegir el que considere más interesante, es decir que deben realizar uno sólo de los proyectos entre las opciones.\n"
      ]
    },
    {
      "cell_type": "markdown",
      "metadata": {
        "id": "d6mrZ0toqrRx"
      },
      "source": [
        "**Fecha de entrega**:\n",
        " * **22 de Noviembre de 2020**\n",
        "\n",
        "**Modalidad de entrega**:\n",
        " * **El archivo *.py* y los archivos *.PNG* se deben enviar a través de un [formulario en nuestro foro](https://curso.whittileaks.com/f/Curso-Python2020/sub/), utilizando su usuario.**\n",
        "\n"
      ]
    },
    {
      "cell_type": "markdown",
      "metadata": {
        "id": "kkd0rLgO1KSx"
      },
      "source": [
        "**Detalles de la entrega:**\n",
        "\n",
        "*   Se debe entregar **1 único archivo *.py*** con su código en Python que podría ser descargado directamente desde Google Colaboratory, o editado con otro software a su elección. Normalmente se utilizan muchos archivos en un mismo proyecto, pero para este caso les pedimos unificar todo para simplificar el proceso de entrega y corrección.\n",
        "\n",
        "*   En el archivo del código en Python **se valorará en la corrección las explicaciones del funcionamiento del programa y los razonamientos de su solución**. Esto pueden realizarlo mediante comentarios en el código.\n",
        "\n",
        "*   Además del código en Python, **deberán enviar un gráfico** en formato *.PNG* generado usando *matplotlib* **siguiendo las indicaciones en la descripción del proyecto**. Esto les sirve a ustedes y a nosotros para saber que se encuentran en buen camino.\n",
        "\n",
        "*   El programa debe ser **robusto**, es decir, con pocas probabilidades de fallar al alterar su entrada. Si el formato de la entrada del usuario no es el esperado **el programa no debe *crashear***, sino manejar la situación acordemente. Una estrategia para detectar posibles fallos es imaginarse que una persona esta empeñada en producir un error en su programa y pensar: **¿Qué intentaría esta persona para romper el código?** Esto involucra, por ejemplo, contemplar casos en que el usuario ingrese texto cuando se esperaba un número, o que ingrese un valor desconocido, una clave que no se encuentra en un diccionario, un índice mayor al tamaño de una lista, etc.\n",
        "\n",
        "*   Tienen libertad de usar su propio criterio para decidir como implementar aquellos detalles que no estén especificados en la descripción.\n",
        "\n",
        "*   La descripción de los proyectos especifica las características mínimas que deben tener. **Damos libertad para agregar funcionalidad o mejorar el proyecto si así lo desean, en tanto se cumpla con todos los requisitos mínimos detallados en la descripción**.\n"
      ]
    },
    {
      "cell_type": "markdown",
      "metadata": {
        "id": "sGIp0nvGf9Ac"
      },
      "source": [
        "**Corrección:**\n",
        "\n",
        "*   Si el proyecto es aprobado se otorgará un certificado digital por haber completado el curso.\n",
        "\n",
        "*   Si se considera que el proyecto aún tiene detalles por corregir se les podrá pedir una re-entrega en una fecha posterior.\n",
        "\n"
      ]
    },
    {
      "cell_type": "markdown",
      "metadata": {
        "id": "vBRyO-4_nGwj"
      },
      "source": [
        "**Consultas acerca del proyecto:**\n",
        "\n",
        "* Podrán realizar todas las consultas que quieran a través de [nuestro foro](https://curso.whittileaks.com/f/Curso-Python2020/c/Proyecto-Integrador/), teniendo especial cuidado de no mostrar grandes partes de su solución ya que si consideramos que el comentario tiene un *spoiler* importante será eliminado."
      ]
    },
    {
      "cell_type": "markdown",
      "metadata": {
        "id": "40C-h2RsTAr-"
      },
      "source": [
        "# **Opción 1: Graficador de casos del COVID-19**\n",
        "\n",
        "#### *Análisis y visualización de datos sobre los casos de coronavirus en distintos países.*\n",
        "\n",
        "<img height=\"300\" src=\"https://cdn.pixabay.com/photo/2020/02/04/16/53/hand-washing-4818792_960_720.jpg\">\n",
        "\n",
        "En esta era de la desinformación puede resultar útil poder sacar uno mismo sus propias conclusiones acerca de los datos presentados. El objetivo de este trabajo es obtener datos de casos y muertes por el Coronavirus de un repositorio de datos online y graficar por país.\n",
        "\n",
        "**Funcionalidad mínima (requisito):**\n",
        "\n",
        "* La aplicación debe recibir del usuario el nombre del país deseado y permitir graficar casos detectados y fallecimientos totales para ese país en función del tiempo.\n",
        "* El usuario debe poder ingresar 2 países y se permite graficar para dichos países la cantidad de casos y fallecimientos en dos gráficos con labels. El usuario debe poder ingresar el intervalo de tiempo a graficar. Calcular las intersecciónes entre gráficos si las hubiera y marcarlas con un punto de algún tipo.\n",
        "* El usuario debe poder ingresar *n* países y se permite graficar para dichos países la cantidad de casos en una [escala logaritmica](https://es.wikipedia.org/wiki/Escala_logar%C3%ADtmica). El programa debe pedirle al usuario el intervalo de tiempo deseado.\n",
        "\n",
        "**Gráfico a entregar (requisito):**\n",
        "\n",
        "* Gráficar sobre la misma imagen la cantidad de casos en una [escala logaritmica](https://es.wikipedia.org/wiki/Escala_logar%C3%ADtmica) de Argentina y todos sus países limítrofes (Chile, Bolivia, Paraguay, Brasil y Uruguay) durante los meses de invierno (21 de junio a 21 de septiembre). Debe quedar claro la curva que corresponde a cada país.\n",
        "\n",
        "**Funcionalidad opcional:** *Pueden realizar todos, algunos, o ninguno de los siguientes ítems. También pueden agregar otra funcionalidad que se les ocurra a ustedes en tanto cumpla con la funcionalidad mínima.*\n",
        "\n",
        "* El programa debe permitir almacenar en un archivo excel los países ordenados de mayor cantidad de casos totales acumulados (al día de hoy) a menor cantidad de casos indicando en las distintas columnas el nombre del país, la cantidad de casos y los fallecimientos.\n",
        "\n",
        "* Almacenar en un archivo excel los países ordenados de mayor cantidad de casos totales acumulados a menor cantidad de casos indicando en las distintas columnas el nombre del país, la cantidad de casos y los fallecimientos colocando en distintas hojas del archivo excel (distintas pestañas) la evolución de este ranking, es decir armar una hoja distinta para cada día transcurrido. Defina los días a utilizar acorde a cuanta información se disponga, podría ser una entrada del usuario.\n",
        "\n",
        "* Para cada gráfico generado el usuario deberá poder ingresar un nombre de archivo y el programa genera un archivo *.PNG* del gráfico con el nombre indicado.\n",
        "\n",
        "* Crear una aplicación de consola que se ejecute continuamente recibiendo comandos del usuario, el usuario debe indicar el modo de operación que desea y el programa le pide los datos requeridos. Luego de finalizar la tarea el programa regresa al inicio y le pide al usuario el próximo comando. Incluír un comando de *ayuda* para que el programa indique al usuario cómo utilizarlo. Incluír un comando de *salida* que provoca la finalización del programa.\n",
        "\n",
        "**Sugerencia:** \n",
        "*   Se pueden rotar las leyendas usando `plt.xticks(rotation=60)` (rotación de 60 grados). Es útil para leyendas largas, como por ejemplo, fechas.  \n",
        "*   En esta [página web](https://nexiandigitalacademy.es/visualizacion-y-procesamiento-de-datos-ante-de-la-pandemia-del-covid-19/) hay un ejemplo de gráficos logaritmicos\n",
        "\n",
        "\n",
        "\n",
        "\n"
      ]
    },
    {
      "cell_type": "code",
      "metadata": {
        "id": "ASU5hpqvTY62"
      },
      "source": [
        "!wget 'https://covid.ourworldindata.org/data/ecdc/full_data.csv'"
      ],
      "execution_count": null,
      "outputs": []
    },
    {
      "cell_type": "code",
      "metadata": {
        "id": "ybYwDnPfTSo4"
      },
      "source": [
        ""
      ],
      "execution_count": null,
      "outputs": []
    },
    {
      "cell_type": "markdown",
      "metadata": {
        "id": "s0qKIOh3UzGF"
      },
      "source": [
        "# **Opción 2: El mercado financiero**\n",
        "\n",
        "#### *Estudio comparativo del desempeño financiero de distintas empresas*.\n",
        "\n",
        "<img height=\"300\" src=\"https://cdn.pixabay.com/photo/2016/11/27/21/42/stock-1863880_960_720.jpg\">\n",
        "\n",
        "Puede ser muy útil visualizar la información del mercado financiero para sacar conclusiones, en esta opción de proyecto la idea es estudiar comparativamente el desempeño de dos o más empresas en la bolsa."
      ]
    },
    {
      "cell_type": "markdown",
      "metadata": {
        "id": "sIMvKzpzbZgi"
      },
      "source": [
        "**Funcionalidad mínima (requisito):**\n",
        "\n",
        "*   Armar un programa donde se analize la información de ciertas empresas (entrada del usuario) y se las grafique comparativamente.\n",
        "*   El usuario debe poder seleccionar empresas de una lista de opciones y el programa debe calcular las intersecciones entre los precios de ambas. Se debe permitir graficar esta información de forma gráfica y almacenar en un archivo de excel las fechas donde ocurrieron las intersecciones.\n",
        "*   Se debe permitir graficar la *derivada discreta* de los valores de bolsa de cada empresa, esto es, la diferencia entre el valor actual y el anterior para cada punto en el tiempo.\n",
        "*   El programa debe poder calcular cuál es aquella que creció más y aquella que creció menos en el mes pasado (Octubre), en el mes anterior (Septiembre) y los últimos 12 meses, esta información se debe poder almacenar en un archivo excel.\n",
        "\n",
        "**Sugerencia**: En esta [base de datos](https://github.com/scikit-learn/examples-data/tree/master/financial-data) esta la información de bolsa de muchas empresas, también en algunos sitios como [Yahoo Finance](https://finance.yahoo.com/) o [investing.com](https://www.investing.com/) pueden buscar información del estado de la bolsa de las empresas en formato csv o excel. "
      ]
    },
    {
      "cell_type": "markdown",
      "metadata": {
        "id": "cjw2aV-wdMej"
      },
      "source": [
        "**Gráfico a entregar (requisito):**\n",
        "\n",
        "*   Realizar un gráfico del valor de las acciones diarias de las compañias **Amazon** y **Google** utilizando dos tipos de lineas distintos. El intervalo de fechas que se desea gráficar debe ser seleccionado por el usuario. Encontrar los puntos donde se cruzan los dos gráficos y marcarlos con puntos (para este caso elegir un intervalo donde se produzcan cruces)."
      ]
    },
    {
      "cell_type": "code",
      "metadata": {
        "id": "gYpFgOGgWyi9"
      },
      "source": [
        "! wget  \"https://raw.githubusercontent.com/IEEESBITBA/Curso-Python/master/Clase_4_datos/AMZN.csv\"\n",
        "! wget  \"https://raw.githubusercontent.com/IEEESBITBA/Curso-Python/master/Clase_4_datos/GOOGLE.csv\""
      ],
      "execution_count": null,
      "outputs": []
    },
    {
      "cell_type": "code",
      "metadata": {
        "id": "XABgEVJnQHga"
      },
      "source": [
        ""
      ],
      "execution_count": null,
      "outputs": []
    },
    {
      "cell_type": "markdown",
      "metadata": {
        "id": "OxEE_Vk6ms75"
      },
      "source": [
        "**Funcionalidad opcional:** *Pueden realizar todos, algunos, o ninguno de los siguientes ítems. También pueden agregar otra funcionalidad que se les ocurra a ustedes en tanto cumpla con la funcionalidad mínima.*\n",
        "\n",
        "* El usuario debe poder seleccionar un periodo (1 semana, 1 mes, etc) y fechas de comienzo y de final. El programa debe poder analizar dentro de esas fechas las empresas que crecieron más y menos dentro de cada periodo (1 semana, 1 mes, etc).\n",
        "\n",
        "* El usuario debe poder ingresar una fecha de inicio y de fin, luego el programa analiza para cada empresa aquella que tenga el mayor coeficiente de correlación lineal (aquella que mejor se aproxime a una recta). Pueden utilizar la función [scipy.stats.pearsonr](https://docs.scipy.org/doc/scipy/reference/generated/scipy.stats.pearsonr.html) de la librería *scipy*.\n",
        "\n",
        "* Mostrar la pendiente obtenida al aproximar el precio de cada empresa mediante una ecuación lineal, ofrecer la opción de visualizar el precio de cierta empresa superponiendo esta aproximación lineal en el gráfico. Pueden utilizar la función [scipy.stats.linregress](https://docs.scipy.org/doc/scipy/reference/generated/scipy.stats.linregress.html) de la librería *scipy*.\n",
        "  \n",
        "  **Atención:** La matemática para hacer estos análisis puede resultar avanzada y no es necesario entenderla, alcanza con entender el funcionamiento de las funciones de librería y saber aplicarlas correctamente.\n",
        "\n",
        "* Para cada gráfico generado el usuario deberá poder ingresar un nombre de archivo y el programa genera un archivo *.PNG* del gráfico con el nombre indicado.\n",
        "\n",
        "* Crear una aplicación de consola que se ejecute continuamente recibiendo comandos del usuario, el usuario debe indicar el modo de operación que desea y el programa le pide los datos requeridos. Luego de finalizar la tarea el programa regresa al inicio y le pide al usuario el próximo comando. Incluír un comando de *ayuda* para que el programa indique al usuario cómo utilizarlo. Incluír un comando de *salida* que provoca la finalización del programa."
      ]
    },
    {
      "cell_type": "markdown",
      "metadata": {
        "id": "lVowRzeIL3sr"
      },
      "source": [
        "# **Opción 3: Análisis de datos obtenidos por un instrumento de medición**\n",
        "\n",
        "#### *Analisis de una señal de un electrocardiograma para conseguir información de un paciente.*\n",
        "\n",
        "<img height=\"300\" src=\"https://cdn.pixabay.com/photo/2017/04/29/13/16/ecg-2270728_960_720.jpg\">\n"
      ]
    },
    {
      "cell_type": "markdown",
      "metadata": {
        "id": "YeXTkpeNdBCY"
      },
      "source": [
        "Un electrocardiograma es una representación gráfica de los pulsos cardíacos. Se tiene un archivo **electrocardiograma.xlsx** con la información del resultado de un electrocardiograma en dos columnas, una tiene los valores de las mediciones en $eV$ (columna *señal*), y la segunda los instantes (medido en segundos transcurridos) en que se toma cada medición (columna *tiempo*) que fueron tomadas con una frecuencia de 360 Hz.\n",
        "\n",
        "**Funcionalidad mínima (requisito):**\n",
        "\n",
        "*   Se debe poder calcular los picos de la señal y marcarlos en un gráfico de la misma.\n",
        "\n",
        "    **Sugerencia**: Usar la función [scipy.signal.find_peaks](https://docs.scipy.org/doc/scipy/reference/generated/scipy.signal.find_peaks.html) de la librería *scipy* (en la documentación hay ejemplos muy útiles).\n",
        "\n",
        "*   Se debe poder calcular la frecuencia cardíaca del paciente medida en latidos por minuto a partir de los picos más altos de cada pulsación.\n",
        "\n",
        "*   Determinar si el electrocardiograma fue tomado mientras el paciente dormía, estaba en reposo o hacia actividad física. Tomar como referencia los [criterios de la frecuencia cardíaca](https://es.wikipedia.org/wiki/Frecuencia_card%C3%ADaca) y pedir como entrada del programa cualquier información adicional necesaria (como la edad o el sexo del paciente).\n",
        "\n",
        "*   Se deben poder almacenar los resultados en un archivo de texto *.txt*\n",
        "\n",
        "**Gráfico a entregar (requisito):**\n",
        "\n",
        "* Graficar la señal del electrocardiograma en función del tiempo señalando el pico más alto de cada pulsación. Indicar la frecuencia cardíaca dentro del gráfico (puede ser mediante *labels*, *título*, *descripción*, etc).\n",
        "\n",
        "**Funcionalidad opcional:** *Pueden realizar todos, algunos, o ninguno de los siguientes ítems. También pueden agregar otra funcionalidad que se les ocurra a ustedes en tanto cumpla con la funcionalidad mínima.*\n",
        "\n",
        "* Identificar la onda P, el complejo QRS y la onda T para cada pulsación. Pueden investigar más en [esta página de Wikipedia](https://es.wikipedia.org/wiki/Electrocardiograma#El_ECG_normal).\n",
        "\n",
        "* Analizar y graficar la [densidad espectral de potencia](https://es.wikipedia.org/wiki/Densidad_espectral) de la señal, calcular su valor en 60 Hz (la frecuencia de la instalación eléctrica donde se realizaron las mediciones) para averiguar si la instalación eléctrica afecta a la medición. Para esto pueden utilizar la función [scipy.signal.welch](https://docs.scipy.org/doc/scipy/reference/generated/scipy.signal.welch.html) de la librería *scipy*.\n",
        "  \n",
        "  **Atención:** La matemática para hacer este análisis puede resultar avanzada y no es necesario entenderla, alcanza con entender el funcionamiento de las funciones de librería y saber aplicarlas correctamente.\n",
        "\n",
        "* Para cada gráfico generado el usuario deberá poder ingresar un nombre de archivo y el programa genera un archivo *.PNG* del gráfico con el nombre indicado.\n",
        "\n",
        "* Crear una aplicación de consola que se ejecute continuamente recibiendo comandos del usuario, el usuario debe indicar el modo de operación que desea y el programa le pide los datos requeridos. Luego de finalizar la tarea el programa regresa al inicio y le pide al usuario el próximo comando. Incluír un comando de *ayuda* para que el programa indique al usuario cómo utilizarlo. Incluír un comando de *salida* que provoca la finalización del programa.\n",
        "\n"
      ]
    },
    {
      "cell_type": "code",
      "metadata": {
        "id": "E_NWYz3HdDZ7",
        "colab": {
          "base_uri": "https://localhost:8080/"
        },
        "outputId": "402a4497-8389-42c2-c96d-42c9a30cf1cf"
      },
      "source": [
        "! wget \"https://raw.githubusercontent.com/IEEESBITBA/Curso-Python/master/Clase_4_datos/electrocardiograma.xlsx\""
      ],
      "execution_count": null,
      "outputs": [
        {
          "output_type": "stream",
          "text": [
            "--2021-01-30 21:12:22--  https://raw.githubusercontent.com/IEEESBITBA/Curso-Python/master/Clase_4_datos/electrocardiograma.xlsx\n",
            "Resolving raw.githubusercontent.com (raw.githubusercontent.com)... 151.101.0.133, 151.101.64.133, 151.101.128.133, ...\n",
            "Connecting to raw.githubusercontent.com (raw.githubusercontent.com)|151.101.0.133|:443... connected.\n",
            "HTTP request sent, awaiting response... 200 OK\n",
            "Length: 42529 (42K) [application/octet-stream]\n",
            "Saving to: ‘electrocardiograma.xlsx’\n",
            "\n",
            "\relectrocardiograma.   0%[                    ]       0  --.-KB/s               \relectrocardiograma. 100%[===================>]  41.53K  --.-KB/s    in 0.01s   \n",
            "\n",
            "2021-01-30 21:12:22 (3.37 MB/s) - ‘electrocardiograma.xlsx’ saved [42529/42529]\n",
            "\n"
          ],
          "name": "stdout"
        }
      ]
    },
    {
      "cell_type": "code",
      "metadata": {
        "id": "bfo-5xKyd2Qe"
      },
      "source": [
        ""
      ],
      "execution_count": null,
      "outputs": []
    }
  ]
}